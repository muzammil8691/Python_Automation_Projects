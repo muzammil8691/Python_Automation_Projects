{
 "cells": [
  {
   "cell_type": "markdown",
   "metadata": {},
   "source": [
    "Author: Muhammad Muzammil\n",
    "\n",
    "Github: https://github.com/muzammil8691\n",
    "Linkedin: https://www.linkedin.com/in/m-muzammil8691/"
   ]
  },
  {
   "cell_type": "markdown",
   "metadata": {},
   "source": [
    "Personalized QR Code generator"
   ]
  },
  {
   "cell_type": "code",
   "execution_count": null,
   "metadata": {},
   "outputs": [],
   "source": [
    "# Step 1: Install the qrcode module\n",
    "# pip install qrcode\n",
    "\n",
    "import qrcode\n",
    "\n",
    "# URL for the social media link\n",
    "link = input(\"Please Paste the link of your Social Media Post or Profile here: \")\n",
    "\n",
    "# Generate a simple QR code with default settings\n",
    "qr = qrcode.make(link)\n",
    "\n",
    "# Save the QR code as an image file\n",
    "qr.save(\"social-media-qr.png\")\n",
    "\n",
    "print(\"QR code created for your social media link and saved.\")\n"
   ]
  }
 ],
 "metadata": {
  "kernelspec": {
   "display_name": "Python 3",
   "language": "python",
   "name": "python3"
  },
  "language_info": {
   "codemirror_mode": {
    "name": "ipython",
    "version": 3
   },
   "file_extension": ".py",
   "mimetype": "text/x-python",
   "name": "python",
   "nbconvert_exporter": "python",
   "pygments_lexer": "ipython3",
   "version": "3.11.7"
  }
 },
 "nbformat": 4,
 "nbformat_minor": 2
}
