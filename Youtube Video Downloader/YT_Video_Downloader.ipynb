{
 "cells": [
  {
   "cell_type": "markdown",
   "metadata": {},
   "source": [
    "Author: Muhammad Muzammil\n",
    "\n",
    "Github: https://github.com/muzammil8691\n",
    "Linkedin: https://www.linkedin.com/in/m-muzammil8691/"
   ]
  },
  {
   "cell_type": "markdown",
   "metadata": {},
   "source": [
    "**High Quality Youtube Video Downloader**"
   ]
  },
  {
   "cell_type": "code",
   "execution_count": null,
   "metadata": {},
   "outputs": [],
   "source": [
    "%pip install yt_dlp"
   ]
  },
  {
   "cell_type": "code",
   "execution_count": null,
   "metadata": {},
   "outputs": [],
   "source": [
    "from yt_dlp import YoutubeDL\n"
   ]
  },
  {
   "cell_type": "code",
   "execution_count": null,
   "metadata": {},
   "outputs": [],
   "source": [
    "# Getting URL from user\n",
    "\n",
    "video_url = input(\"Paste URL/Link of the video you want to download: \")\n",
    "\n",
    "# Download options\n",
    "\n",
    "ydl_opts = {\n",
    "    'format': 'best',  # Downloads the highest quality available\n",
    "    'outtmpl': '%(title)s.%(ext)s',  # Output format: video title as filename\n",
    "}\n",
    "\n",
    "#Passing URL to package\n",
    "\n",
    "ydl = YoutubeDL(ydl_opts)\n",
    "ydl.download([video_url])\n",
    "print(\"Download Complete\")"
   ]
  }
 ],
 "metadata": {
  "kernelspec": {
   "display_name": "Python 3",
   "language": "python",
   "name": "python3"
  },
  "language_info": {
   "codemirror_mode": {
    "name": "ipython",
    "version": 3
   },
   "file_extension": ".py",
   "mimetype": "text/x-python",
   "name": "python",
   "nbconvert_exporter": "python",
   "pygments_lexer": "ipython3",
   "version": "3.11.7"
  }
 },
 "nbformat": 4,
 "nbformat_minor": 2
}
